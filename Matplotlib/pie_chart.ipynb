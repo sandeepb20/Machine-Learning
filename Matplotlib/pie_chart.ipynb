{
 "metadata": {
  "language_info": {
   "codemirror_mode": {
    "name": "ipython",
    "version": 3
   },
   "file_extension": ".py",
   "mimetype": "text/x-python",
   "name": "python",
   "nbconvert_exporter": "python",
   "pygments_lexer": "ipython3",
   "version": "3.9.2-final"
  },
  "orig_nbformat": 2,
  "kernelspec": {
   "name": "python392jvsc74a57bd094177165c184f5bb1e1d0e8b23965c088da0bf354be75cbadf3a9f76ef2ba52e",
   "display_name": "Python 3.9.2 64-bit"
  },
  "metadata": {
   "interpreter": {
    "hash": "94177165c184f5bb1e1d0e8b23965c088da0bf354be75cbadf3a9f76ef2ba52e"
   }
  }
 },
 "nbformat": 4,
 "nbformat_minor": 2,
 "cells": [
  {
   "cell_type": "code",
   "execution_count": null,
   "metadata": {},
   "outputs": [],
   "source": [
    "import matplotlib.pyplot as plt\n",
    "import numpy as np"
   ]
  },
  {
   "cell_type": "code",
   "execution_count": null,
   "metadata": {},
   "outputs": [],
   "source": [
    "y=np.array([25,20,25,5,20,3])\n",
    "mycolors=['red','yellow','blue','brown','orange','green']\n",
    "mylabels=[\"Apple\",\"Banana\",\"Cherry\",\"Dates\",\"Orange\",\"Papaya\"]\n",
    "myexplode=[0.1,0.1,0.1,0.2,0.1,0.2]\n",
    "plt.pie(y,explode=myexplode,colors=mycolors,labels=mylabels,shadow=True)\n",
    "plt.legend()\n",
    "plt.legend(title=\"Six Fruits\")\n",
    "plt.show"
   ]
  },
  {
   "cell_type": "code",
   "execution_count": null,
   "metadata": {},
   "outputs": [],
   "source": []
  }
 ]
}