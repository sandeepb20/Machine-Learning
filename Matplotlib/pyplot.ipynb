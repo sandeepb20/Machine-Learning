{
 "metadata": {
  "language_info": {
   "codemirror_mode": {
    "name": "ipython",
    "version": 3
   },
   "file_extension": ".py",
   "mimetype": "text/x-python",
   "name": "python",
   "nbconvert_exporter": "python",
   "pygments_lexer": "ipython3",
   "version": "3.9.2-final"
  },
  "orig_nbformat": 2,
  "kernelspec": {
   "name": "python392jvsc74a57bd094177165c184f5bb1e1d0e8b23965c088da0bf354be75cbadf3a9f76ef2ba52e",
   "display_name": "Python 3.9.2 64-bit"
  },
  "metadata": {
   "interpreter": {
    "hash": "94177165c184f5bb1e1d0e8b23965c088da0bf354be75cbadf3a9f76ef2ba52e"
   }
  }
 },
 "nbformat": 4,
 "nbformat_minor": 2,
 "cells": [
  {
   "cell_type": "code",
   "execution_count": null,
   "metadata": {},
   "outputs": [],
   "source": [
    "import matplotlib.pyplot as plt\n",
    "import numpy as np"
   ]
  },
  {
   "cell_type": "code",
   "execution_count": null,
   "metadata": {},
   "outputs": [],
   "source": [
    "ypoints=np.array([3,5,9,6,4,7,8,5,2,4])\n",
    "plt.subplot(1,2,1)\n",
    "plt.plot(ypoints,marker='*',ms=20,mfc='r',ls='-',c='green',linewidth=5)\n",
    "plt.xlabel('No of kids')\n",
    "plt.ylabel('age')\n",
    "plt.title('Children')\n",
    "\n",
    "y2points=np.array([1,2,3,4,5,6,7,8,9,2])\n",
    "plt.subplot(1,2,2)\n",
    "plt.plot(ypoints,marker='o',ms=20,mfc='b',ls='-',c='red',linewidth=5)\n",
    "plt.xlabel('No of boys')\n",
    "plt.ylabel('age')\n",
    "plt.title('Adults')\n",
    "\n",
    "plt.suptitle('my plot')\n",
    "plt.show()\n"
   ]
  },
  {
   "cell_type": "code",
   "execution_count": null,
   "metadata": {},
   "outputs": [],
   "source": []
  }
 ]
}