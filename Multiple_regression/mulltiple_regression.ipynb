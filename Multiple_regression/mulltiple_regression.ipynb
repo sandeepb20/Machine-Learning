{
 "metadata": {
  "language_info": {
   "codemirror_mode": {
    "name": "ipython",
    "version": 3
   },
   "file_extension": ".py",
   "mimetype": "text/x-python",
   "name": "python",
   "nbconvert_exporter": "python",
   "pygments_lexer": "ipython3",
   "version": "3.9.2"
  },
  "orig_nbformat": 2,
  "kernelspec": {
   "name": "python392jvsc74a57bd094177165c184f5bb1e1d0e8b23965c088da0bf354be75cbadf3a9f76ef2ba52e",
   "display_name": "Python 3.9.2 64-bit"
  },
  "metadata": {
   "interpreter": {
    "hash": "94177165c184f5bb1e1d0e8b23965c088da0bf354be75cbadf3a9f76ef2ba52e"
   }
  }
 },
 "nbformat": 4,
 "nbformat_minor": 2,
 "cells": [
  {
   "cell_type": "code",
   "execution_count": 26,
   "metadata": {},
   "outputs": [],
   "source": [
    "import matplotlib.pyplot as plt\n",
    "import numpy as np\n",
    "import pandas as pd\n",
    "#from sklearn import linear_model"
   ]
  },
  {
   "cell_type": "code",
   "execution_count": 27,
   "metadata": {},
   "outputs": [],
   "source": [
    "f=pd.read_csv('data.csv')"
   ]
  },
  {
   "cell_type": "code",
   "execution_count": 28,
   "metadata": {},
   "outputs": [],
   "source": [
    "arr=f.to_numpy()\n",
    "beds=[]\n",
    "frontage=[]\n",
    "depth=[]\n",
    "price=[]\n",
    "for i in arr:\n",
    "    beds.append(i[0])\n",
    "    frontage.append(i[1])\n",
    "    depth.append(i[2])\n",
    "    price.append(i[3])\n",
    "X=np.array([[beds],[frontage],[depth]])\n",
    "Y=np.array(price)\n",
    "alpha=0.0001\n"
   ]
  },
  {
   "cell_type": "code",
   "execution_count": 29,
   "metadata": {},
   "outputs": [],
   "source": [
    "def compute_error(para,X,Y):\n",
    "    err=0\n",
    "    for i in range(len(Y)):\n",
    "        err+=(para[0]+para[1]*X[0][0][i]+para[2]*X[1][0][i]+para[3]*X[2][0][i]-Y[i])**2\n",
    "    print(err)"
   ]
  },
  {
   "cell_type": "code",
   "execution_count": 30,
   "metadata": {},
   "outputs": [],
   "source": [
    "def get_gradient_descent(X,Y,alpha):\n",
    "    m=len(Y)\n",
    "    para=[0,0,0,0]\n",
    "    gr=[0,0,0,0]\n",
    "    num_iterations=500\n",
    "\n",
    "    while(num_iterations):\n",
    "        num_iterations-=1\n",
    "        for i in range(m):\n",
    "            gr[0]+=para[0]+para[1]*X[0][0][i]+para[2]*X[1][0][i]+para[3]*X[2][0][i]-Y[i]\n",
    "            gr[1]+=(para[0]+para[1]*X[0][0][i]+para[2]*X[1][0][i]+para[3]*X[2][0][i]-Y[i])*X[0][0][i]\n",
    "            gr[2]+=(para[0]+para[1]*X[0][0][i]+para[2]*X[1][0][i]+para[3]*X[2][0][i]-Y[i])*X[1][0][i]\n",
    "            gr[3]+=(para[0]+para[1]*X[0][0][i]+para[2]*X[1][0][i]+para[3]*X[2][0][i]-Y[i])*X[2][0][i]\n",
    "        \n",
    "        para[0]=para[0]-(alpha/m)*gr[0]\n",
    "        para[1]=para[1]-(alpha/m)*gr[1]\n",
    "        para[2]=para[2]-(alpha/m)*gr[2]\n",
    "        para[3]=para[3]-(alpha/m)*gr[3]\n",
    "\n",
    "    return para"
   ]
  },
  {
   "cell_type": "code",
   "execution_count": 31,
   "metadata": {},
   "outputs": [
    {
     "output_type": "stream",
     "name": "stdout",
     "text": [
      "35394451.93\n",
      "None\n",
      "\n",
      "\n",
      "\n",
      "[-69.01023432399171, 9.698194123074884, -2.106205271682948, -0.20447472229655972]\n",
      "\n",
      "\n",
      "\n",
      "8547661.292378359\n",
      "None\n"
     ]
    }
   ],
   "source": [
    "para=[0,0,0,0]\n",
    "print(compute_error(para,X,Y))\n",
    "print(\"\\n\\n\")\n",
    "para=get_gradient_descent(X,Y,alpha)\n",
    "print(get_gradient_descent(X,Y,alpha))\n",
    "print(\"\\n\\n\")\n",
    "print(compute_error(para,X,Y))"
   ]
  },
  {
   "cell_type": "code",
   "execution_count": 32,
   "metadata": {},
   "outputs": [
    {
     "output_type": "stream",
     "name": "stdout",
     "text": [
      "Price of house is : 377.94414674591803\n"
     ]
    }
   ],
   "source": [
    "#predict value\n",
    "bed_i=int(input(\"Enter no beds:\"))\n",
    "frontage_i=int(input(\"Enter frontage area:\"))\n",
    "depth_i=int(input(\"Enter depth of house:\"))\n",
    "price_i=para[0]+para[1]*bed_i+para[2]*frontage_i+para[3]*depth_i\n",
    "print(\"Price of house is :\",price_i)"
   ]
  },
  {
   "cell_type": "code",
   "execution_count": 33,
   "metadata": {},
   "outputs": [
    {
     "output_type": "stream",
     "name": "stdout",
     "text": [
      "multiple regression using some modules\n"
     ]
    }
   ],
   "source": [
    "print(\"multiple regression using some modules\")"
   ]
  },
  {
   "cell_type": "code",
   "execution_count": 34,
   "metadata": {},
   "outputs": [],
   "source": [
    "from sklearn import linear_model\n",
    "f=pd.read_csv('data.csv')\n",
    "X=f[['Beds','Frontage']]\n",
    "Y=f['Price']"
   ]
  },
  {
   "cell_type": "code",
   "execution_count": 35,
   "metadata": {},
   "outputs": [
    {
     "output_type": "stream",
     "name": "stdout",
     "text": [
      "[5.88537551 3.15582111]\n"
     ]
    }
   ],
   "source": [
    "regr=linear_model.LinearRegression()\n",
    "regr.fit(X,Y)\n",
    "print(regr.coef_)"
   ]
  },
  {
   "cell_type": "code",
   "execution_count": null,
   "metadata": {},
   "outputs": [],
   "source": []
  }
 ]
}