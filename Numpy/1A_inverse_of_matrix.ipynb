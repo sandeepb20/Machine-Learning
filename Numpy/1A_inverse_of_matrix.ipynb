{
 "metadata": {
  "language_info": {
   "codemirror_mode": {
    "name": "ipython",
    "version": 3
   },
   "file_extension": ".py",
   "mimetype": "text/x-python",
   "name": "python",
   "nbconvert_exporter": "python",
   "pygments_lexer": "ipython3",
   "version": "3.9.2-final"
  },
  "orig_nbformat": 2,
  "kernelspec": {
   "name": "python392jvsc74a57bd094177165c184f5bb1e1d0e8b23965c088da0bf354be75cbadf3a9f76ef2ba52e",
   "display_name": "Python 3.9.2 64-bit"
  },
  "metadata": {
   "interpreter": {
    "hash": "94177165c184f5bb1e1d0e8b23965c088da0bf354be75cbadf3a9f76ef2ba52e"
   }
  }
 },
 "nbformat": 4,
 "nbformat_minor": 2,
 "cells": [
  {
   "cell_type": "code",
   "execution_count": 303,
   "metadata": {},
   "outputs": [],
   "source": [
    "import numpy as np\n",
    "import time"
   ]
  },
  {
   "cell_type": "code",
   "execution_count": 304,
   "metadata": {},
   "outputs": [],
   "source": [
    "def createMatrix(m,n):\n",
    "    mat=[]\n",
    "    for i in range(m):\n",
    "        rowList=[]\n",
    "        for j in range(n):\n",
    "            rowList.append(0)\n",
    "        mat.append(rowList)\n",
    "    return mat"
   ]
  },
  {
   "cell_type": "code",
   "execution_count": 305,
   "metadata": {},
   "outputs": [],
   "source": [
    "def minorMatrix(mat,i,j):\n",
    "    minor_mat=np.concatenate((mat[0:i],mat[i+1:n]),axis=0)\n",
    "    minor_mat=np.concatenate((minor_mat[:,0:j],minor_mat[:,j+1:n]), axis=1)\n",
    "    return minor_mat"
   ]
  },
  {
   "cell_type": "code",
   "execution_count": 306,
   "metadata": {},
   "outputs": [],
   "source": [
    "def determinant(mat):\n",
    "    m=len(mat)\n",
    "    if m==1:\n",
    "        return mat[0]\n",
    "    if m==2:\n",
    "        return (mat[0][0]*mat[1][1]-mat[0][1]*mat[1][0])\n",
    "    det=0\n",
    "    for i in range(m):\n",
    "        sign=(-1)**i\n",
    "        x=determinant(minorMatrix(mat,0,i))\n",
    "        y=x*sign*mat[0][i]\n",
    "        det=det+y\n",
    "    return det"
   ]
  },
  {
   "cell_type": "code",
   "execution_count": 307,
   "metadata": {},
   "outputs": [],
   "source": [
    "def inverseOfMatrix(mat):\n",
    "    det=determinant(mat)\n",
    "    if len(mat)==1:\n",
    "        return 1/det\n",
    "    m=len(mat)\n",
    "    result=createMatrix(m,m)\n",
    "    for i in range(m):\n",
    "        for j in range(m):\n",
    "            minor_mat=np.concatenate((mat[0:i],mat[i+1:n]),axis=0)\n",
    "            minor_mat=np.concatenate((minor_mat[:,0:j],minor_mat[:,j+1:n]), axis=1)\n",
    "            result[j][i]=determinant(minor_mat)/det*((-1)**(i+j))\n",
    "    return result"
   ]
  },
  {
   "cell_type": "code",
   "execution_count": 308,
   "metadata": {},
   "outputs": [],
   "source": [
    "#main function\n",
    "n=int(input(\"Enter dimension of matrix:  \"))\n",
    "entry_limit=int(input(\"Enter limit for matrix Entries:  \"))\n",
    "mat1=np.random.randint(entry_limit,size=(n,n))"
   ]
  },
  {
   "cell_type": "code",
   "execution_count": 309,
   "metadata": {},
   "outputs": [
    {
     "output_type": "stream",
     "name": "stdout",
     "text": [
      "Results without numpy\n",
      "[[ 0.43135192  1.28458706  0.45502367 -2.77853761  0.68595476 -0.84534456\n",
      "   1.79063651]\n",
      " [ 0.05576013 -0.23882167  0.07101526  0.38716465 -0.13571804 -0.03366649\n",
      "  -0.0904787 ]\n",
      " [-0.36612309 -1.14886902 -0.23987375  2.51446607 -0.67490794  0.82482904\n",
      "  -1.78327196]\n",
      " [ 0.0662809  -0.37822199  0.00894266  0.44134666  0.02735402  0.09205681\n",
      "  -0.31509732]\n",
      " [ 0.26459758  1.24408206  0.13887428 -2.08732246  0.60126249 -0.68805892\n",
      "   1.40084166]\n",
      " [ 0.07732772 -0.27459232 -0.15623356  0.34823777 -0.30142031  0.27406628\n",
      "  -0.20094687]\n",
      " [-0.21409784  0.08679642 -0.03682272 -0.05260389  0.18148343  0.09153077\n",
      "   0.12098895]]\n",
      "Time taken in mili sec :  219.7556495666504\n"
     ]
    }
   ],
   "source": [
    "print(\"Results without numpy\")\n",
    "start_time=time.time()\n",
    "if determinant(mat1)==0:\n",
    "    print(\"Inverse does not exist\")\n",
    "else:\n",
    "    res=inverseOfMatrix(mat1)\n",
    "res1=np.array(res)\n",
    "print(res1)\n",
    "time_taken1=time.time()-start_time\n",
    "print(\"Time taken in mili sec : \",time_taken1*1000)\n"
   ]
  },
  {
   "cell_type": "code",
   "execution_count": 310,
   "metadata": {},
   "outputs": [
    {
     "output_type": "stream",
     "name": "stdout",
     "text": [
      "Results with numpy\n[[ 0.43135192  1.28458706  0.45502367 -2.77853761  0.68595476 -0.84534456\n   1.79063651]\n [ 0.05576013 -0.23882167  0.07101526  0.38716465 -0.13571804 -0.03366649\n  -0.0904787 ]\n [-0.36612309 -1.14886902 -0.23987375  2.51446607 -0.67490794  0.82482904\n  -1.78327196]\n [ 0.0662809  -0.37822199  0.00894266  0.44134666  0.02735402  0.09205681\n  -0.31509732]\n [ 0.26459758  1.24408206  0.13887428 -2.08732246  0.60126249 -0.68805892\n   1.40084166]\n [ 0.07732772 -0.27459232 -0.15623356  0.34823777 -0.30142031  0.27406628\n  -0.20094687]\n [-0.21409784  0.08679642 -0.03682272 -0.05260389  0.18148343  0.09153077\n   0.12098895]]\nTime taken in mili sec :  32.3481559753418\n"
     ]
    }
   ],
   "source": [
    "print(\"Results with numpy\")\n",
    "start_time=time.time()\n",
    "if determinant(mat1)==0:\n",
    "    print(\"Inverse does not exist\")\n",
    "else:\n",
    "    res2=np.linalg.inv(mat1)\n",
    "print(res2)\n",
    "time_taken2=time.time()-start_time\n",
    "print(\"Time taken in mili sec : \",time_taken2*1000)"
   ]
  },
  {
   "cell_type": "code",
   "execution_count": 312,
   "metadata": {},
   "outputs": [
    {
     "output_type": "stream",
     "name": "stdout",
     "text": [
      "Time taken Without numpy is greater by 6.793452144046935 times xd.\n"
     ]
    }
   ],
   "source": [
    "\n",
    "if time_taken2!=0:\n",
    "    print(\"Time taken Without numpy is greater by {} times xd.\".format(time_taken1/time_taken2))"
   ]
  }
 ]
}