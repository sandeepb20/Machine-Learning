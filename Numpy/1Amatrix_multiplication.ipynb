{
 "metadata": {
  "language_info": {
   "codemirror_mode": {
    "name": "ipython",
    "version": 3
   },
   "file_extension": ".py",
   "mimetype": "text/x-python",
   "name": "python",
   "nbconvert_exporter": "python",
   "pygments_lexer": "ipython3",
   "version": "3.9.2-final"
  },
  "orig_nbformat": 2,
  "kernelspec": {
   "name": "python392jvsc74a57bd094177165c184f5bb1e1d0e8b23965c088da0bf354be75cbadf3a9f76ef2ba52e",
   "display_name": "Python 3.9.2 64-bit"
  },
  "metadata": {
   "interpreter": {
    "hash": "94177165c184f5bb1e1d0e8b23965c088da0bf354be75cbadf3a9f76ef2ba52e"
   }
  }
 },
 "nbformat": 4,
 "nbformat_minor": 2,
 "cells": [
  {
   "cell_type": "code",
   "execution_count": 37,
   "metadata": {},
   "outputs": [],
   "source": [
    "import numpy as np\n",
    "import time"
   ]
  },
  {
   "cell_type": "code",
   "execution_count": 38,
   "metadata": {},
   "outputs": [],
   "source": [
    "def createMatrix(m,n):\n",
    "    mat=[]\n",
    "    for i in range(m):\n",
    "        rowList=[]\n",
    "        for j in range(n):\n",
    "            rowList.append(0)\n",
    "        mat.append(rowList)\n",
    "    return mat"
   ]
  },
  {
   "cell_type": "code",
   "execution_count": 39,
   "metadata": {},
   "outputs": [],
   "source": [
    "def matrixMultipication(mat1,mat2):\n",
    "    rowIn1=len(mat1)\n",
    "    rowIn2=len(mat2)\n",
    "    colIn1=len(mat1[0])\n",
    "    colIn2=len(mat2[0])\n",
    "    if colIn1!=rowIn2:\n",
    "        print(\"multiplication not applicable\")\n",
    "    else:\n",
    "        result=createMatrix(rowIn1,colIn2)\n",
    "        for i in range(rowIn1):\n",
    "            for j in range(colIn2):\n",
    "                for k in range(colIn1):\n",
    "                    result[i][j]+=mat1[i][k]*mat2[k][j]\n",
    "        return result"
   ]
  },
  {
   "cell_type": "code",
   "execution_count": 40,
   "metadata": {},
   "outputs": [],
   "source": [
    "#main function\n",
    "row_num=int(input(\"Enter no. of rows for pre matrix:  \"))\n",
    "col_num=int(input(\"Enter no. of columns for pre matrix:  \"))\n",
    "col_num2=int(input(\"Enter no. of columns for post matrix:  \"))\n",
    "entry_limit=int(input(\"Enter limit for matrix Entries:  \"))\n",
    "mat1=np.random.randint(entry_limit,size=(row_num,col_num))\n",
    "mat2=np.random.randint(entry_limit,size=(col_num,col_num2))"
   ]
  },
  {
   "cell_type": "code",
   "execution_count": 41,
   "metadata": {},
   "outputs": [
    {
     "output_type": "stream",
     "name": "stdout",
     "text": [
      "Results without numpy\n",
      "Time taken in mili sec :  927.9861450195312\n"
     ]
    }
   ],
   "source": [
    "print(\"Results without numpy\")\n",
    "start_time=time.time()\n",
    "res1=matrixMultipication(mat1,mat2)\n",
    "#print(res1)\n",
    "time_taken1=time.time()-start_time\n",
    "print(\"Time taken in mili sec : \",time_taken1*1000)\n"
   ]
  },
  {
   "cell_type": "code",
   "execution_count": 42,
   "metadata": {},
   "outputs": [
    {
     "output_type": "stream",
     "name": "stdout",
     "text": [
      "Results with numpy\nTime taken in mili sec :  3.985881805419922\n"
     ]
    }
   ],
   "source": [
    "print(\"Results with numpy\")\n",
    "start_time=time.time()\n",
    "res2=np.matmul(mat1,mat2)\n",
    "#print(res2)\n",
    "time_taken2=time.time()-start_time\n",
    "print(\"Time taken in mili sec : \",time_taken2*1000)"
   ]
  },
  {
   "cell_type": "code",
   "execution_count": 43,
   "metadata": {},
   "outputs": [
    {
     "output_type": "stream",
     "name": "stdout",
     "text": [
      "Both the results are same :)\nTime taken Without numpy is greater by 232.81827969852853 times xd.\n"
     ]
    }
   ],
   "source": [
    "if (res1 == res2).all():\n",
    "    print(\"Both the results are same :)\")\n",
    "else:\n",
    "    print(\"Something went wrong \\n Both the results are different :(\")\n",
    "if time_taken2!=0:\n",
    "    print(\"Time taken Without numpy is greater by {} times xd.\".format(time_taken1/time_taken2))\n"
   ]
  },
  {
   "cell_type": "code",
   "execution_count": null,
   "metadata": {},
   "outputs": [],
   "source": []
  }
 ]
}